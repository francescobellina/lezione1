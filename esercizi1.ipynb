{
  "cells": [
    {
      "cell_type": "markdown",
      "metadata": {
        "id": "ckBpPYaBOLsm"
      },
      "source": [
        "## lezione 1 esercizi"
      ]
    },
    {
      "cell_type": "markdown",
      "source": [
        "#Esercizio1"
      ],
      "metadata": {
        "id": "qpVTIUuPt036"
      }
    },
    {
      "cell_type": "code",
      "execution_count": null,
      "metadata": {
        "colab": {
          "base_uri": "https://localhost:8080/",
          "height": 247
        },
        "id": "Xmn5NPFgOLsq",
        "outputId": "a2fcf883-364f-4e99-d46f-eda3d793a53b"
      },
      "outputs": [
        {
          "output_type": "error",
          "ename": "NameError",
          "evalue": "ignored",
          "traceback": [
            "\u001b[0;31m---------------------------------------------------------------------------\u001b[0m",
            "\u001b[0;31mNameError\u001b[0m                                 Traceback (most recent call last)",
            "\u001b[0;32m<ipython-input-6-f26fe44483aa>\u001b[0m in \u001b[0;36m<cell line: 21>\u001b[0;34m()\u001b[0m\n\u001b[1;32m     19\u001b[0m \u001b[0;34m\u001b[0m\u001b[0m\n\u001b[1;32m     20\u001b[0m \u001b[0;34m\u001b[0m\u001b[0m\n\u001b[0;32m---> 21\u001b[0;31m \u001b[0mnum\u001b[0m\u001b[0;34m=\u001b[0m\u001b[0mint\u001b[0m \u001b[0;34m(\u001b[0m\u001b[0msys\u001b[0m\u001b[0;34m.\u001b[0m\u001b[0margv\u001b[0m\u001b[0;34m[\u001b[0m\u001b[0;36m1\u001b[0m\u001b[0;34m]\u001b[0m\u001b[0;34m)\u001b[0m  \u001b[0;31m#utilizzo i parametri in questo modo(...) den= int(sys.arg[2])\u001b[0m\u001b[0;34m\u001b[0m\u001b[0;34m\u001b[0m\u001b[0m\n\u001b[0m\u001b[1;32m     22\u001b[0m \u001b[0mden\u001b[0m\u001b[0;34m=\u001b[0m \u001b[0mint\u001b[0m\u001b[0;34m(\u001b[0m\u001b[0msys\u001b[0m\u001b[0;34m.\u001b[0m\u001b[0margv\u001b[0m\u001b[0;34m[\u001b[0m\u001b[0;36m2\u001b[0m\u001b[0;34m]\u001b[0m\u001b[0;34m)\u001b[0m\u001b[0;34m\u001b[0m\u001b[0;34m\u001b[0m\u001b[0m\n\u001b[1;32m     23\u001b[0m \u001b[0mtest\u001b[0m\u001b[0;34m(\u001b[0m\u001b[0mnum\u001b[0m\u001b[0;34m,\u001b[0m\u001b[0mden\u001b[0m\u001b[0;34m)\u001b[0m\u001b[0;34m\u001b[0m\u001b[0;34m\u001b[0m\u001b[0m\n",
            "\u001b[0;31mNameError\u001b[0m: name 'sys' is not defined"
          ]
        }
      ],
      "source": [
        "## primo esercizio\n",
        "\n",
        "\n",
        "def test(num, den):\n",
        "  if num%den==0:\n",
        "    print(num, \"è divisibile per\", den)\n",
        "    print(\"-->\", num//den, num%den)\n",
        "  else:\n",
        "     print(num, \"non è devisibile per\", den)\n",
        "     print(\"-->\", num//den, num%den)\n",
        "\n",
        "def main():\n",
        "  import sys\n",
        "\n",
        "  if len(sys,argv) -1<2:  #serve per controllare se ho passato un numero suff di parametri\n",
        "   print(\"ATTENTO! servono almeno due parametri (il numeratore e un denominatore!\")\n",
        "   helt(test)\n",
        "   exit()\n",
        "\n",
        "\n",
        "num=int (sys.argv[1])  #utilizzo i parametri in questo modo(...) den= int(sys.arg[2])  #CAPZIOSITà O UTILITà?\n",
        "den= int(sys.argv[2])\n",
        "test(num,den)\n",
        "\n",
        "if __name__ == \"__main__ \":\n",
        "  main()\n",
        "\n"
      ]
    },
    {
      "cell_type": "markdown",
      "source": [
        "## esercizio 1 risoluzione indipendente a casa:\n"
      ],
      "metadata": {
        "id": "reaKXiWYtq9s"
      }
    },
    {
      "cell_type": "code",
      "source": [
        "#Write a program that reads an integer given as input from the user and determines whether it is divisible by 2, 3, 5, or 7\n",
        "\n",
        "numb=int(input(\"inserisci un numero intero: \"))  #l'importnaza del CAST SUL VALORE IN INPUT!\n",
        "\n",
        "x=2\n",
        "\n",
        "while(x<=7):\n",
        "    if numb%x==0:\n",
        "      print(numb, \"è divisibile per \", x)\n",
        "\n",
        "    x=x+1\n",
        "    if numb%x==0:\n",
        "      print(numb, \"è divisibile per \", x)\n",
        "\n",
        "\n",
        "    x=x+2\n",
        "    if numb%x==0:\n",
        "          print(numb, \"è divisibile per \", x)\n",
        "          break\n",
        "\n",
        "    x=x+2\n",
        "    if numb%x==0:\n",
        "        print(numb, \"è divisibile per \", x)\n",
        "        break\n"
      ],
      "metadata": {
        "id": "4O0HLWJ2t6JJ",
        "outputId": "d00515b0-75af-4aa9-9e5e-08bbdcff68f4",
        "colab": {
          "base_uri": "https://localhost:8080/"
        }
      },
      "execution_count": 3,
      "outputs": [
        {
          "output_type": "stream",
          "name": "stdout",
          "text": [
            "inserisci un numero intero: 20238\n",
            "20238 è divisibile per  2\n",
            "20238 è divisibile per  3\n"
          ]
        }
      ]
    },
    {
      "cell_type": "code",
      "source": [
        "#Encapsulate the check into a function taking as input two numbers, and write a program that asks the user to insert two numbers and checks whether the first is divisible by the other one (and vice-versa).\n",
        "#Incapsulare il controllo in una funzione che prenda in input due numeri, e scrivere un programma che chieda all'utente di inserire due numeri e controlli se il primo è divisibile per l'altro (e viceversa).\n",
        "\n",
        "x1=int(input(\"inserire il primo numero: \"))\n",
        "x2=int(input(\"inserire il secondo numero: \"))\n",
        "\n",
        "def divisora(x1,x2):     #la funzione \"divisora\" fa proprio quello che ci chiede\n",
        "   if x1%x2==0:\n",
        "     print(x1, \"è divisibile per\" ,x2)\n",
        "\n",
        "   if x2%x1==0:\n",
        "     print(x2, \"è divisibile per\" ,x1)\n",
        "\n",
        "\n",
        "print(divisora(x1,x2))\n"
      ],
      "metadata": {
        "id": "5b0j5Kdnu-02"
      },
      "execution_count": null,
      "outputs": []
    },
    {
      "cell_type": "markdown",
      "source": [
        "#soluzione esercizio 1:\n"
      ],
      "metadata": {
        "id": "LMLnUod9zzUO"
      }
    },
    {
      "cell_type": "code",
      "source": [
        "#qui è implementato tutto assieme\n",
        "\n",
        "def check_ratio (numerator, denominator):\n",
        "  return (numerator % denominator) == 0  #restituisce la scrittura di questa espressione, utile negli if-else\n",
        "\n",
        "\n",
        "# ---- ---- ---- ---- ---- ---- ---- ---- ---- ---- ---- ---- ----\n",
        "\n",
        "\n",
        "def main () :              #DEFINZIONE DELLLA FUNZIONE MAIN (con dentro tutte le operazione e chiamate a funzioni da noi create)\n",
        "    '''\n",
        "    Funzione che implementa il programma principale\n",
        "    '''\n",
        "\n",
        "    number = int (input ('insert a number: '))\n",
        "    dividers = [2., 3., 5., 7.]       #PRIMA PARTE DEL PROGRAMMA\n",
        "    for div in dividers :         #div dovrebbe essere l'indice per il for su dividers\n",
        "      if (check_ratio (number, div)) :\n",
        "        print (str (number) + ' is divisible by ' + str (div))   #str sta per cast di stringe\n",
        "      else :\n",
        "        print (str (number) + ' is NOT divisible by ' + str (div))\n",
        "\n",
        "\n",
        "    number = int (input ('insert a numerator: '))   #SECONDA PARTE DEL PROGRAMMA\n",
        "    diviser = int (input ('insert a denominator: '))\n",
        "    if (check_ratio (number, diviser)) :\n",
        "      print (str (number) + ' is divisible by ' + str (diviser))\n",
        "    else :\n",
        "      print (str (number) + ' is NOT divisible by ' + str (diviser))\n",
        "\n",
        "\n",
        "# ---- ---- ---- ---- ---- ---- ---- ---- ---- ---- ---- ---- ----\n",
        "\n",
        "\n",
        "if __name__ == \"__main__\":    #CHIAMATA GENERALE ALLA FUNZIONE MAIN (sua esecuzione)\n",
        "    main ()\n"
      ],
      "metadata": {
        "id": "z7d7372Vz2Qt"
      },
      "execution_count": null,
      "outputs": []
    },
    {
      "cell_type": "markdown",
      "source": [
        "## ESERCIZIO 3:"
      ],
      "metadata": {
        "id": "UNSYgcaCWNUT"
      }
    },
    {
      "cell_type": "code",
      "source": [
        "#Write a program that, by using a while loop, returns the Fibonacci sequence up to the n-th term and stores it in a python list.\n",
        "\n",
        "#0,1,1,2,3,5,8,13,21\n",
        "#f=f(n-1)+f(n-2)\n",
        "\n",
        "\n",
        "nterms = int(input(\"How many terms? \")) #INPUT, guarda come è implementato!\n",
        "\n",
        "# primi due valori\n",
        "n1, n2 = 0, 1\n",
        "count = 0\n",
        "list1=[] #lista vuota che verrà riempita.\n",
        "\n",
        "# vediamo se il valore è valido:\n",
        "if nterms <= 0:\n",
        "   print(\"Please enter a positive integer\")\n",
        "\n",
        "#se c'è solo il valore =1 restituisce n1\n",
        "elif nterms == 1:\n",
        "   print(\"Fibonacci sequence is\",nterms,\":\")\n",
        "   print(n1)\n",
        "\n",
        "# genera la succesione di fibonacci\n",
        "else:\n",
        "   print(\"Fibonacci sequence:\")\n",
        "   while count < nterms:\n",
        "       list1.append(n1)   #aggiugni man mano\n",
        "\n",
        "       nth = n1 + n2\n",
        "\n",
        "       #aggiorna i valori nel while\n",
        "       n1 = n2\n",
        "       n2 = nth\n",
        "       count += 1\n",
        "print(list1)       #stampa"
      ],
      "metadata": {
        "colab": {
          "base_uri": "https://localhost:8080/"
        },
        "id": "kc56ZCZaWPjh",
        "outputId": "539fa50e-6dc1-4b7f-f75a-15bda78629e6"
      },
      "execution_count": null,
      "outputs": [
        {
          "output_type": "stream",
          "name": "stdout",
          "text": [
            "How many terms? 3\n",
            "Fibonacci sequence:\n",
            "[0, 1, 1]\n"
          ]
        }
      ]
    }
  ],
  "metadata": {
    "kernelspec": {
      "display_name": "Python 3 (ipykernel)",
      "language": "python",
      "name": "python3"
    },
    "language_info": {
      "codemirror_mode": {
        "name": "ipython",
        "version": 3
      },
      "file_extension": ".py",
      "mimetype": "text/x-python",
      "name": "python",
      "nbconvert_exporter": "python",
      "pygments_lexer": "ipython3",
      "version": "3.8.10"
    },
    "colab": {
      "provenance": []
    }
  },
  "nbformat": 4,
  "nbformat_minor": 0
}