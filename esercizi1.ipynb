{
  "cells": [
    {
      "cell_type": "markdown",
      "metadata": {
        "id": "ckBpPYaBOLsm"
      },
      "source": [
        "## lezione 1 esercizi"
      ]
    },
    {
      "cell_type": "markdown",
      "source": [
        "#Esercizio1"
      ],
      "metadata": {
        "id": "qpVTIUuPt036"
      }
    },
    {
      "cell_type": "code",
      "execution_count": null,
      "metadata": {
        "colab": {
          "base_uri": "https://localhost:8080/",
          "height": 247
        },
        "id": "Xmn5NPFgOLsq",
        "outputId": "a2fcf883-364f-4e99-d46f-eda3d793a53b"
      },
      "outputs": [
        {
          "output_type": "error",
          "ename": "NameError",
          "evalue": "ignored",
          "traceback": [
            "\u001b[0;31m---------------------------------------------------------------------------\u001b[0m",
            "\u001b[0;31mNameError\u001b[0m                                 Traceback (most recent call last)",
            "\u001b[0;32m<ipython-input-6-f26fe44483aa>\u001b[0m in \u001b[0;36m<cell line: 21>\u001b[0;34m()\u001b[0m\n\u001b[1;32m     19\u001b[0m \u001b[0;34m\u001b[0m\u001b[0m\n\u001b[1;32m     20\u001b[0m \u001b[0;34m\u001b[0m\u001b[0m\n\u001b[0;32m---> 21\u001b[0;31m \u001b[0mnum\u001b[0m\u001b[0;34m=\u001b[0m\u001b[0mint\u001b[0m \u001b[0;34m(\u001b[0m\u001b[0msys\u001b[0m\u001b[0;34m.\u001b[0m\u001b[0margv\u001b[0m\u001b[0;34m[\u001b[0m\u001b[0;36m1\u001b[0m\u001b[0;34m]\u001b[0m\u001b[0;34m)\u001b[0m  \u001b[0;31m#utilizzo i parametri in questo modo(...) den= int(sys.arg[2])\u001b[0m\u001b[0;34m\u001b[0m\u001b[0;34m\u001b[0m\u001b[0m\n\u001b[0m\u001b[1;32m     22\u001b[0m \u001b[0mden\u001b[0m\u001b[0;34m=\u001b[0m \u001b[0mint\u001b[0m\u001b[0;34m(\u001b[0m\u001b[0msys\u001b[0m\u001b[0;34m.\u001b[0m\u001b[0margv\u001b[0m\u001b[0;34m[\u001b[0m\u001b[0;36m2\u001b[0m\u001b[0;34m]\u001b[0m\u001b[0;34m)\u001b[0m\u001b[0;34m\u001b[0m\u001b[0;34m\u001b[0m\u001b[0m\n\u001b[1;32m     23\u001b[0m \u001b[0mtest\u001b[0m\u001b[0;34m(\u001b[0m\u001b[0mnum\u001b[0m\u001b[0;34m,\u001b[0m\u001b[0mden\u001b[0m\u001b[0;34m)\u001b[0m\u001b[0;34m\u001b[0m\u001b[0;34m\u001b[0m\u001b[0m\n",
            "\u001b[0;31mNameError\u001b[0m: name 'sys' is not defined"
          ]
        }
      ],
      "source": [
        "## primo esercizio\n",
        "\n",
        "\n",
        "def test(num, den):\n",
        "  if num%den==0:\n",
        "    print(num, \"è divisibile per\", den)\n",
        "    print(\"-->\", num//den, num%den)\n",
        "  else:\n",
        "     print(num, \"non è devisibile per\", den)\n",
        "     print(\"-->\", num//den, num%den)\n",
        "\n",
        "def main():\n",
        "  import sys\n",
        "\n",
        "  if len(sys,argv) -1<2:  #serve per controllare se ho passato un numero suff di parametri\n",
        "   print(\"ATTENTO! servono almeno due parametri (il numeratore e un denominatore!\")\n",
        "   helt(test)\n",
        "   exit()\n",
        "\n",
        "\n",
        "num=int (sys.argv[1])  #utilizzo i parametri in questo modo(...) den= int(sys.arg[2])  #CAPZIOSITà O UTILITà?\n",
        "den= int(sys.argv[2])\n",
        "test(num,den)\n",
        "\n",
        "if __name__ == \"__main__ \":\n",
        "  main()\n",
        "\n"
      ]
    },
    {
      "cell_type": "markdown",
      "source": [
        "## esercizio 1 risoluzione indipendente a casa:\n"
      ],
      "metadata": {
        "id": "reaKXiWYtq9s"
      }
    },
    {
      "cell_type": "code",
      "source": [
        "#Write a program that reads an integer given as input from the user and determines whether it is divisible by 2, 3, 5, or 7\n",
        "\n",
        "numb=int(input(\"inserisci un numero intero: \"))  #l'importnaza del CAST SUL VALORE IN INPUT!\n",
        "\n",
        "x=2\n",
        "\n",
        "while(x<=7):\n",
        "    if numb%x==0:\n",
        "      print(numb, \"è divisibile per \", x)\n",
        "\n",
        "    x=x+1\n",
        "    if numb%x==0:\n",
        "      print(numb, \"è divisibile per \", x)\n",
        "\n",
        "\n",
        "    x=x+2\n",
        "    if numb%x==0:\n",
        "          print(numb, \"è divisibile per \", x)\n",
        "          break\n",
        "\n",
        "    x=x+2\n",
        "    if numb%x==0:\n",
        "        print(numb, \"è divisibile per \", x)\n",
        "        break\n"
      ],
      "metadata": {
        "id": "4O0HLWJ2t6JJ",
        "outputId": "d00515b0-75af-4aa9-9e5e-08bbdcff68f4",
        "colab": {
          "base_uri": "https://localhost:8080/"
        }
      },
      "execution_count": null,
      "outputs": [
        {
          "output_type": "stream",
          "name": "stdout",
          "text": [
            "inserisci un numero intero: 20238\n",
            "20238 è divisibile per  2\n",
            "20238 è divisibile per  3\n"
          ]
        }
      ]
    },
    {
      "cell_type": "code",
      "source": [
        "#Encapsulate the check into a function taking as input two numbers, and write a program that asks the user to insert two numbers and checks whether the first is divisible by the other one (and vice-versa).\n",
        "#Incapsulare il controllo in una funzione che prenda in input due numeri, e scrivere un programma che chieda all'utente di inserire due numeri e controlli se il primo è divisibile per l'altro (e viceversa).\n",
        "\n",
        "x1=int(input(\"inserire il primo numero: \"))\n",
        "x2=int(input(\"inserire il secondo numero: \"))\n",
        "\n",
        "def divisora(x1,x2):     #la funzione \"divisora\" fa proprio quello che ci chiede\n",
        "   if x1%x2==0:\n",
        "     print(x1, \"è divisibile per\" ,x2)\n",
        "\n",
        "   if x2%x1==0:\n",
        "     print(x2, \"è divisibile per\" ,x1)\n",
        "\n",
        "\n",
        "print(divisora(x1,x2))\n"
      ],
      "metadata": {
        "id": "5b0j5Kdnu-02"
      },
      "execution_count": null,
      "outputs": []
    },
    {
      "cell_type": "markdown",
      "source": [
        "#soluzione esercizio 1:\n"
      ],
      "metadata": {
        "id": "LMLnUod9zzUO"
      }
    },
    {
      "cell_type": "code",
      "source": [
        "#qui è implementato tutto assieme\n",
        "\n",
        "def check_ratio (numerator, denominator):\n",
        "  return (numerator % denominator) == 0  #restituisce la scrittura di questa espressione, utile negli if-else\n",
        "\n",
        "\n",
        "# ---- ---- ---- ---- ---- ---- ---- ---- ---- ---- ---- ---- ----\n",
        "\n",
        "\n",
        "def main () :              #DEFINZIONE DELLLA FUNZIONE MAIN (con dentro tutte le operazione e chiamate a funzioni da noi create)\n",
        "    '''\n",
        "    Funzione che implementa il programma principale\n",
        "    '''\n",
        "\n",
        "    number = int (input ('insert a number: '))\n",
        "    dividers = [2., 3., 5., 7.]       #PRIMA PARTE DEL PROGRAMMA\n",
        "    for div in dividers :         #div dovrebbe essere l'indice per il for su dividers\n",
        "      if (check_ratio (number, div)) :\n",
        "        print (str (number) + ' is divisible by ' + str (div))   #str sta per cast di stringe\n",
        "      else :\n",
        "        print (str (number) + ' is NOT divisible by ' + str (div))\n",
        "\n",
        "\n",
        "    number = int (input ('insert a numerator: '))   #SECONDA PARTE DEL PROGRAMMA\n",
        "    diviser = int (input ('insert a denominator: '))\n",
        "    if (check_ratio (number, diviser)) :\n",
        "      print (str (number) + ' is divisible by ' + str (diviser))\n",
        "    else :\n",
        "      print (str (number) + ' is NOT divisible by ' + str (diviser))\n",
        "\n",
        "\n",
        "# ---- ---- ---- ---- ---- ---- ---- ---- ---- ---- ---- ---- ----\n",
        "\n",
        "\n",
        "if __name__ == \"__main__\":    #CHIAMATA GENERALE ALLA FUNZIONE MAIN (sua esecuzione)\n",
        "    main ()\n"
      ],
      "metadata": {
        "id": "z7d7372Vz2Qt"
      },
      "execution_count": null,
      "outputs": []
    },
    {
      "cell_type": "markdown",
      "source": [
        "## ESERCIZIO 3:"
      ],
      "metadata": {
        "id": "UNSYgcaCWNUT"
      }
    },
    {
      "cell_type": "code",
      "source": [
        "#Write a program that, by using a while loop, returns the Fibonacci sequence up to the n-th term and stores it in a python list.\n",
        "\n",
        "#0,1,1,2,3,5,8,13,21\n",
        "#f=f(n-1)+f(n-2)\n",
        "\n",
        "\n",
        "nterms = int(input(\"How many terms? \")) #INPUT, guarda come è implementato!\n",
        "\n",
        "# primi due valori\n",
        "n1, n2 = 0, 1\n",
        "count = 0\n",
        "list1=[] #lista vuota che verrà riempita.\n",
        "\n",
        "# vediamo se il valore è valido:\n",
        "if nterms <= 0:\n",
        "   print(\"Please enter a positive integer\")\n",
        "\n",
        "#se c'è solo il valore =1 restituisce n1\n",
        "elif nterms == 1:\n",
        "   print(\"Fibonacci sequence is\",nterms,\":\")\n",
        "   print(n1)\n",
        "\n",
        "# genera la succesione di fibonacci\n",
        "else:\n",
        "   print(\"Fibonacci sequence:\")\n",
        "   while count < nterms:\n",
        "       list1.append(n1)   #aggiugni man mano\n",
        "\n",
        "       nth = n1 + n2\n",
        "\n",
        "       #aggiorna i valori nel while\n",
        "       n1 = n2\n",
        "       n2 = nth\n",
        "       count += 1\n",
        "print(list1)       #stampa"
      ],
      "metadata": {
        "colab": {
          "base_uri": "https://localhost:8080/"
        },
        "id": "kc56ZCZaWPjh",
        "outputId": "539fa50e-6dc1-4b7f-f75a-15bda78629e6"
      },
      "execution_count": null,
      "outputs": [
        {
          "output_type": "stream",
          "name": "stdout",
          "text": [
            "How many terms? 3\n",
            "Fibonacci sequence:\n",
            "[0, 1, 1]\n"
          ]
        }
      ]
    },
    {
      "cell_type": "code",
      "source": [
        "#soluzione data es 3:\n",
        "#!/usr/bin/python\n",
        "'''\n",
        "  * Write a program that, by using a `while` loop,\n",
        "    returns the Fibonacci sequence up to the n-th term\n",
        "    and stores it in a python `list`.\n",
        "'''\n",
        "\n",
        "\n",
        "def main () :\n",
        "    '''\n",
        "    Funzione che implementa il programma principale\n",
        "    '''\n",
        "    elements_num = int (input ('number of elements to calculate: '))\n",
        "\n",
        "    fibonacci = [int (0), int (1)]\n",
        "    if elements_num < 2 :\n",
        "      print (fibonacci[:elements_num])\n",
        "    index = int (2)\n",
        "    while index < elements_num :\n",
        "      fibonacci.append (fibonacci[-1] + fibonacci[-2])  #aggiungi la somma dell'ultimo con il penultimo\n",
        "      index += 1\n",
        "    print (fibonacci)\n",
        "\n",
        "\n",
        "# ---- ---- ---- ---- ---- ---- ---- ---- ---- ---- ---- ---- ----\n",
        "\n",
        "\n",
        "if __name__ == \"__main__\":\n",
        "    main ()\n"
      ],
      "metadata": {
        "id": "shmULdtf0K5A"
      },
      "execution_count": null,
      "outputs": []
    },
    {
      "cell_type": "markdown",
      "source": [
        "ESERCIZIO 4\n"
      ],
      "metadata": {
        "id": "nhfZsXJW1OD5"
      }
    },
    {
      "cell_type": "code",
      "source": [
        "#Write a program that, by using a for loop, returns the Fibonacci sequence up to the n-th term and stores it in a python dictionary,\n",
        "# where the key represents the index of each element and value its actual value\n",
        "\n",
        "\n",
        "\n",
        "\n",
        "N=int(input(\"inserisci il numero di interi: \")) #per calcolare la sequenza fibonacci\n",
        "\n",
        "fib_array=[int(0), int(1)]\n",
        "\n",
        "if N<=1:\n",
        " print(fib_array[:N+1])\n",
        "\n",
        "else :\n",
        " for i in fib_array:\n",
        "   fib_array.append (fib_array[-1] + fib_array[-2])\n",
        "   i=i+1\n",
        "   if i==N:\n",
        "    break\n",
        "print(fib_array)\n",
        "\n",
        "\n",
        "------\n",
        "\n",
        "\n",
        "N=int(input(\"inserisci il numero di interi: \"))\n",
        "fib_array=[int(0), int(1)]\n",
        "\n",
        "fib_dizionario={\n",
        "    'int(i)' : 'int(fib_array[i])'\n",
        "}\n",
        "\n",
        "for i in fib_dizionario:\n",
        "    if N<=1:\n",
        "     print(i, fib_dizionario[i])\n",
        "    else:\n",
        "     fib_array.append (fib_array[-1] + fib_array[-2])\n",
        "     i=i+1\n",
        "     if i==N:\n",
        "      break\n",
        "      print(i,fib_dizionario[i])\n",
        "\n",
        "\n",
        "\n",
        "\n",
        "\n",
        "\n"
      ],
      "metadata": {
        "id": "lDtxIL4t1To9"
      },
      "execution_count": null,
      "outputs": []
    },
    {
      "cell_type": "markdown",
      "source": [
        "#soluzione esercizio 4:\n"
      ],
      "metadata": {
        "id": "hGk9nrm3CzKd"
      }
    },
    {
      "cell_type": "code",
      "source": [
        "def main () :\n",
        "    '''\n",
        "    Funzione che implementa il programma principale\n",
        "    '''\n",
        "\n",
        "    fibonacci ={}  #dizionario vuoto\n",
        "    fibonacci[0] = int (0)\n",
        "    fibonacci[1] = int (1)\n",
        "\n",
        "    elements_num = int (input ('number of elements to calculate: '))\n",
        "\n",
        "    # the module itertools would allow to do this in a more compact way\n",
        "    # https://docs.python.org/3/library/itertools.html\n",
        "    if elements_num < 3 :\n",
        "      for key in fibonacci.keys () :\n",
        "        print ('element', key, ' : ', fibonacci[key])\n",
        "        elements_num -= 1\n",
        "        if elements_num == 0 : break\n",
        "\n",
        "    for key in range (2, elements_num) :\n",
        "      fibonacci[key] = fibonacci[key-1] + fibonacci[key-2]\n",
        "\n",
        "    for key in fibonacci.keys () :   #STAMPARE CON IL FOR SUL DIZIONARIO, keys METHOD\n",
        "      print ('element', key, ' : ', fibonacci[key])\n",
        "\n",
        "\n",
        "# ---- ---- ---- ---- ---- ---- ---- ---- ---- ---- ---- ---- ----\n",
        "\n",
        "\n",
        "if __name__ == \"__main__\":\n",
        "    main ()\n"
      ],
      "metadata": {
        "id": "iKY_ihF1C2P4"
      },
      "execution_count": null,
      "outputs": []
    },
    {
      "cell_type": "markdown",
      "source": [
        "##esercizio 5:"
      ],
      "metadata": {
        "id": "8nEk97jBKjbT"
      }
    },
    {
      "cell_type": "code",
      "source": [
        "#implememtare una funzione per fibonacci da testare nel main.\n",
        "#Test the function with a main program, filling a list with the elements of the sequence.\n",
        "\n",
        "#Create a new list containing only the elements with even index in the list.\n",
        "#Create a new list containing only the elements with odd index in the list.\n",
        "\n",
        "#Move the function in a library and import it in the main program.\n",
        "\n",
        "\n",
        "\n",
        "##import fibonacci from fibonacci (questo se salvo la funzione in una libreria)\n",
        "\n",
        "def main():\n",
        " n=int(input(\"inserisci numero intero: \"))\n",
        " list1=fibonacci(n)\n",
        " print(list1)\n",
        "\n",
        " list_even=list1[0:n,1]   #?\n",
        " list_odd=list2[1:n,2]\n",
        "\n",
        "def fibonacci(N):\n",
        "  fib=[int(0),int(1)]\n",
        "  if N<2:\n",
        "   return fib[:N]\n",
        "  else:\n",
        "   i=int(2)\n",
        "   while(i<=N):\n",
        "    fib.append()==(fib[i-2]+fib[i-1])\n",
        "    i=i+1\n",
        "   return fib\n",
        "\n",
        "\n",
        "if __name__ == \"__main__\":\n",
        "    main ()\n",
        "\n",
        "\n",
        "\n",
        "\n",
        "\n",
        "\n",
        "\n",
        "\n",
        "\n",
        "\n"
      ],
      "metadata": {
        "id": "1II0CkkqKlM6"
      },
      "execution_count": null,
      "outputs": []
    },
    {
      "cell_type": "markdown",
      "source": [
        "#soluzione es 5:\n"
      ],
      "metadata": {
        "id": "Por7w_bwQJwr"
      }
    },
    {
      "cell_type": "code",
      "source": [
        "#!/usr/bin/python\n",
        "'''\n",
        "  * Define a function that returns the Fibonacci sequence up to the n-th term.\n",
        "\n",
        "    `````{hint}\n",
        "    The function prototype could be\n",
        "\n",
        "    ```python\n",
        "    def fibonacci (n) :\n",
        "        \"\"\"A function that calculates the Fibonacci sequence up to the n-th term\n",
        "\n",
        "        Args:\n",
        "            n (int): the n-th term of the sequence\n",
        "\n",
        "        Returns:\n",
        "            list: a list with the Fibonacci sequence\n",
        "        \"\"\"\n",
        "    ```\n",
        "    `````\n",
        "  * Test the function with a `main` program,\n",
        "    filling a `list` with the elements of the sequence.\n",
        "  * Create a new list containing only the elements with even index in the `list`.\n",
        "  * Create a new list containing only the elements with odd index in the `list`.\n",
        "  * Move the function in a library and import it in the main program.\n",
        "'''\n",
        "\n",
        "from fibonacci import fibonacci\n",
        "\n",
        "\n",
        "# ---- ---- ---- ---- ---- ---- ---- ---- ---- ---- ---- ---- ----\n",
        "\n",
        "\n",
        "def main () :\n",
        "    '''\n",
        "    Funzione che implementa il programma principale\n",
        "    '''\n",
        "\n",
        "    elements_num = int (input ('number of elements to calculate: '))\n",
        "    l_fibo = fibonacci (elements_num)\n",
        "    print (l_fibo)\n",
        "    l_fibo_even = l_fibo[::2] # slice from beginning to end with step 2\n",
        "    l_fibo_odd = l_fibo[1::2] # slice from second element (1) to end with step 2\n",
        "    print (l_fibo_even)\n",
        "    print (l_fibo_odd)\n",
        "\n",
        "\n",
        "# ---- ---- ---- ---- ---- ---- ---- ---- ---- ---- ----\n",
        "\n",
        "if __name__ == \"__main__\":\n",
        "    main ()\n",
        "\n",
        "\n",
        "####: in una libreria a parte abbiamo: fibonacci.py\n",
        "def fibonacci (elements_num) :\n",
        "    \"\"\"A function that calculates the Fibonacci sequence up to the n-th term\n",
        "\n",
        "    Args:\n",
        "        n (int): the n-th term of the sequence\n",
        "\n",
        "    Returns:\n",
        "        list: a list with the Fibonacci sequence\n",
        "    \"\"\"\n",
        "    fibonacci = [int (0), int (1)]\n",
        "    if elements_num < 2 :\n",
        "      return fibonacci[:elements_num]\n",
        "    index = int (2)\n",
        "    while index < elements_num :\n",
        "      fibonacci.append (fibonacci[-1] + fibonacci[-2])\n",
        "      index += 1\n",
        "    return fibonacci\n"
      ],
      "metadata": {
        "id": "nrisAyIDQMau"
      },
      "execution_count": null,
      "outputs": []
    },
    {
      "cell_type": "markdown",
      "source": [
        "##esercizio 6"
      ],
      "metadata": {
        "id": "VviUjbDLQkR1"
      }
    },
    {
      "cell_type": "code",
      "source": [
        "#By writing a suitable program and functions, verify whether the value of variables passed to a function get modified in the main program,\n",
        "#if they are changed inside the function.\n",
        "#Perform the check for the various types described during the lecture\n"
      ],
      "metadata": {
        "id": "kF8STmX2Ql_l"
      },
      "execution_count": null,
      "outputs": []
    },
    {
      "cell_type": "markdown",
      "source": [
        "##esercizio 7"
      ],
      "metadata": {
        "id": "wJ3qn6QSQ0vf"
      }
    },
    {
      "cell_type": "code",
      "source": [
        "#Write a python program that determines the solution of second-order equations\n",
        "\n",
        "\n",
        "\n",
        "\n",
        "#vettore dei coefficienti: un vettore di dimensione 3, unidimensionale.\n",
        "\n",
        "#ax^2+bx+c\n",
        "a=int(input(\"inserire il primo coefficiente: \"))\n",
        "b=int(input(\"\\ninserire il secondo coefficiente: \"))\n",
        "c=int(input(\"\\ninserire il terzo coefficiente: \"))\n",
        "print(\"Le soluzioni dell'equazione:  \",a,\"x^2 + \",b,\"x + \",c,\"  valgono: \")\n",
        "coeffic=[a,b,c]\n",
        "\n",
        "  x1==int((-b+delta(a,b,c,)))/2*a)\n",
        "  x2==int((-b-delta(a,b,c,)))/2*a)\n",
        "\n",
        "  print(x1, \"e\" ,x2)\n",
        "\n",
        "define delta(a,b,c):\n",
        "  _delta==int(b**2-4*a*c)\n",
        "  if _delta<0: return(str(\"L'EQUAZIONE NON HA SOLUZIONI NEI REALI!\"))\n",
        "  else:\n",
        "  return(_delta)"
      ],
      "metadata": {
        "id": "0aiXtZX3Q2MT"
      },
      "execution_count": null,
      "outputs": []
    }
  ],
  "metadata": {
    "kernelspec": {
      "display_name": "Python 3 (ipykernel)",
      "language": "python",
      "name": "python3"
    },
    "language_info": {
      "codemirror_mode": {
        "name": "ipython",
        "version": 3
      },
      "file_extension": ".py",
      "mimetype": "text/x-python",
      "name": "python",
      "nbconvert_exporter": "python",
      "pygments_lexer": "ipython3",
      "version": "3.8.10"
    },
    "colab": {
      "provenance": []
    }
  },
  "nbformat": 4,
  "nbformat_minor": 0
}