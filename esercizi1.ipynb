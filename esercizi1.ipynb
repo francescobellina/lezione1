{
  "cells": [
    {
      "cell_type": "markdown",
      "metadata": {
        "id": "ckBpPYaBOLsm"
      },
      "source": [
        "## lezione 1 esercizi"
      ]
    },
    {
      "cell_type": "code",
      "execution_count": 6,
      "metadata": {
        "colab": {
          "base_uri": "https://localhost:8080/",
          "height": 247
        },
        "id": "Xmn5NPFgOLsq",
        "outputId": "a2fcf883-364f-4e99-d46f-eda3d793a53b"
      },
      "outputs": [
        {
          "output_type": "error",
          "ename": "NameError",
          "evalue": "ignored",
          "traceback": [
            "\u001b[0;31m---------------------------------------------------------------------------\u001b[0m",
            "\u001b[0;31mNameError\u001b[0m                                 Traceback (most recent call last)",
            "\u001b[0;32m<ipython-input-6-f26fe44483aa>\u001b[0m in \u001b[0;36m<cell line: 21>\u001b[0;34m()\u001b[0m\n\u001b[1;32m     19\u001b[0m \u001b[0;34m\u001b[0m\u001b[0m\n\u001b[1;32m     20\u001b[0m \u001b[0;34m\u001b[0m\u001b[0m\n\u001b[0;32m---> 21\u001b[0;31m \u001b[0mnum\u001b[0m\u001b[0;34m=\u001b[0m\u001b[0mint\u001b[0m \u001b[0;34m(\u001b[0m\u001b[0msys\u001b[0m\u001b[0;34m.\u001b[0m\u001b[0margv\u001b[0m\u001b[0;34m[\u001b[0m\u001b[0;36m1\u001b[0m\u001b[0;34m]\u001b[0m\u001b[0;34m)\u001b[0m  \u001b[0;31m#utilizzo i parametri in questo modo(...) den= int(sys.arg[2])\u001b[0m\u001b[0;34m\u001b[0m\u001b[0;34m\u001b[0m\u001b[0m\n\u001b[0m\u001b[1;32m     22\u001b[0m \u001b[0mden\u001b[0m\u001b[0;34m=\u001b[0m \u001b[0mint\u001b[0m\u001b[0;34m(\u001b[0m\u001b[0msys\u001b[0m\u001b[0;34m.\u001b[0m\u001b[0margv\u001b[0m\u001b[0;34m[\u001b[0m\u001b[0;36m2\u001b[0m\u001b[0;34m]\u001b[0m\u001b[0;34m)\u001b[0m\u001b[0;34m\u001b[0m\u001b[0;34m\u001b[0m\u001b[0m\n\u001b[1;32m     23\u001b[0m \u001b[0mtest\u001b[0m\u001b[0;34m(\u001b[0m\u001b[0mnum\u001b[0m\u001b[0;34m,\u001b[0m\u001b[0mden\u001b[0m\u001b[0;34m)\u001b[0m\u001b[0;34m\u001b[0m\u001b[0;34m\u001b[0m\u001b[0m\n",
            "\u001b[0;31mNameError\u001b[0m: name 'sys' is not defined"
          ]
        }
      ],
      "source": [
        "## primo esercizio\n",
        "\n",
        "\n",
        "def test(num, den):\n",
        "  if num%den==0:\n",
        "    print(num, \"è divisibile per\", den)\n",
        "    print(\"-->\", num//den, num%den)\n",
        "  else:\n",
        "     print(num, \"non è devisibile per\", den)\n",
        "     print(\"-->\", num//den, num%den)\n",
        "\n",
        "def main():\n",
        "  import sys\n",
        "\n",
        "  if len(sys,argv) -1<2:  #serve per controllare se ho passato un numero suff di parametri\n",
        "   print(\"ATTENTO! servono almeno due parametri (il numeratore e un denominatore!\")\n",
        "   helt(test)\n",
        "   exit()\n",
        "\n",
        "\n",
        "num=int (sys.argv[1])  #utilizzo i parametri in questo modo(...) den= int(sys.arg[2])\n",
        "den= int(sys.argv[2])\n",
        "test(num,den)\n",
        "\n",
        "if __name__ == \"__main__ \":\n",
        "  main()\n",
        "\n",
        ""
      ]
    },
    {
      "cell_type": "markdown",
      "source": [
        "## ESERCIZIO 3:"
      ],
      "metadata": {
        "id": "UNSYgcaCWNUT"
      }
    },
    {
      "cell_type": "code",
      "source": [
        "#Write a program that, by using a while loop, returns the Fibonacci sequence up to the n-th term and stores it in a python list.\n",
        "\n",
        "#0,1,1,2,3,5,8,13,21\n",
        "#f=f(n-1)+f(n-2)\n",
        "\n",
        "\n",
        "nterms = int(input(\"How many terms? \")) #INPUT, guarda come è implementato!\n",
        "\n",
        "# primi due valori\n",
        "n1, n2 = 0, 1\n",
        "count = 0\n",
        "list1=[] #lista vuota che verrà riempita.\n",
        "\n",
        "# vediamo se il valore è valido:\n",
        "if nterms <= 0:\n",
        "   print(\"Please enter a positive integer\")\n",
        "\n",
        "#se c'è solo il valore =1 restituisce n1\n",
        "elif nterms == 1:\n",
        "   print(\"Fibonacci sequence is\",nterms,\":\")\n",
        "   print(n1)\n",
        "\n",
        "# genera la succesione di fibonacci\n",
        "else:\n",
        "   print(\"Fibonacci sequence:\")\n",
        "   while count < nterms:\n",
        "       list1.append(n1)   #aggiugni man mano\n",
        "\n",
        "       nth = n1 + n2\n",
        "\n",
        "       #aggiorna i valori nel while\n",
        "       n1 = n2\n",
        "       n2 = nth\n",
        "       count += 1\n",
        "print(list1)       #stampa"
      ],
      "metadata": {
        "colab": {
          "base_uri": "https://localhost:8080/"
        },
        "id": "kc56ZCZaWPjh",
        "outputId": "539fa50e-6dc1-4b7f-f75a-15bda78629e6"
      },
      "execution_count": 7,
      "outputs": [
        {
          "output_type": "stream",
          "name": "stdout",
          "text": [
            "How many terms? 3\n",
            "Fibonacci sequence:\n",
            "[0, 1, 1]\n"
          ]
        }
      ]
    }
  ],
  "metadata": {
    "kernelspec": {
      "display_name": "Python 3 (ipykernel)",
      "language": "python",
      "name": "python3"
    },
    "language_info": {
      "codemirror_mode": {
        "name": "ipython",
        "version": 3
      },
      "file_extension": ".py",
      "mimetype": "text/x-python",
      "name": "python",
      "nbconvert_exporter": "python",
      "pygments_lexer": "ipython3",
      "version": "3.8.10"
    },
    "colab": {
      "provenance": []
    }
  },
  "nbformat": 4,
  "nbformat_minor": 0
}