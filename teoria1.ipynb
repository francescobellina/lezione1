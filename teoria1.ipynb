{
  "cells": [
    {
      "cell_type": "markdown",
      "id": "f090d442",
      "metadata": {
        "id": "f090d442"
      },
      "source": [
        "## LEZIONE 1"
      ]
    },
    {
      "cell_type": "code",
      "execution_count": null,
      "id": "c794e315",
      "metadata": {
        "id": "c794e315"
      },
      "outputs": [],
      "source": []
    },
    {
      "cell_type": "code",
      "source": [],
      "metadata": {
        "id": "e9I55GQ2TP6a"
      },
      "id": "e9I55GQ2TP6a",
      "execution_count": null,
      "outputs": []
    },
    {
      "cell_type": "markdown",
      "source": [
        "LEZIONE INTRODUTTIVA"
      ],
      "metadata": {
        "id": "qb2gEXOCTQWi"
      },
      "id": "qb2gEXOCTQWi"
    },
    {
      "cell_type": "code",
      "execution_count": 2,
      "id": "f573fdc5",
      "metadata": {
        "colab": {
          "base_uri": "https://localhost:8080/"
        },
        "id": "f573fdc5",
        "outputId": "3fe1cf42-36ab-4204-bf61-fb5f8949bb0d"
      },
      "outputs": [
        {
          "output_type": "stream",
          "name": "stdout",
          "text": [
            "[1, 2, 3]\n"
          ]
        }
      ],
      "source": [
        "import numpy as np\n",
        "\n",
        "a=[1,2,3]\n",
        "\n",
        "print(a)"
      ]
    },
    {
      "cell_type": "code",
      "execution_count": 6,
      "id": "c05ab200",
      "metadata": {
        "id": "c05ab200"
      },
      "outputs": [],
      "source": []
    },
    {
      "cell_type": "code",
      "execution_count": 5,
      "id": "dc701651",
      "metadata": {
        "id": "dc701651"
      },
      "outputs": [],
      "source": []
    },
    {
      "cell_type": "code",
      "execution_count": null,
      "id": "1c6f1493",
      "metadata": {
        "id": "1c6f1493"
      },
      "outputs": [],
      "source": []
    },
    {
      "cell_type": "code",
      "execution_count": null,
      "id": "ecccf849",
      "metadata": {
        "id": "ecccf849"
      },
      "outputs": [],
      "source": []
    }
  ],
  "metadata": {
    "kernelspec": {
      "display_name": "Python 3 (ipykernel)",
      "language": "python",
      "name": "python3"
    },
    "language_info": {
      "codemirror_mode": {
        "name": "ipython",
        "version": 3
      },
      "file_extension": ".py",
      "mimetype": "text/x-python",
      "name": "python",
      "nbconvert_exporter": "python",
      "pygments_lexer": "ipython3",
      "version": "3.11.4"
    },
    "colab": {
      "provenance": []
    }
  },
  "nbformat": 4,
  "nbformat_minor": 5
}
