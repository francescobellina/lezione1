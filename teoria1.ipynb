{
  "cells": [
    {
      "cell_type": "markdown",
      "id": "f090d442",
      "metadata": {
        "id": "f090d442"
      },
      "source": [
        "## LEZIONE 1"
      ]
    },
    {
      "cell_type": "markdown",
      "source": [
        "LEZIONE INTRODUTTIVA"
      ],
      "metadata": {
        "id": "qb2gEXOCTQWi"
      },
      "id": "qb2gEXOCTQWi"
    },
    {
      "cell_type": "markdown",
      "source": [
        "#cast di una variabile"
      ],
      "metadata": {
        "id": "VaK-WoQyt5OC"
      },
      "id": "VaK-WoQyt5OC"
    },
    {
      "cell_type": "code",
      "execution_count": 3,
      "id": "f573fdc5",
      "metadata": {
        "colab": {
          "base_uri": "https://localhost:8080/"
        },
        "id": "f573fdc5",
        "outputId": "fbd4cc0c-217d-4cdf-dc5d-d04624174a5c"
      },
      "outputs": [
        {
          "output_type": "stream",
          "name": "stdout",
          "text": [
            "<class 'int'>\n",
            "<class 'complex'>\n",
            "<class 'int'>\n"
          ]
        }
      ],
      "source": [
        "\n",
        "d=4\n",
        "print(type(d))\n",
        "\n",
        "a = complex (4)  #casting di d intero in a complesso\n",
        "\n",
        "print(type(a))\n",
        "\n",
        "a\n",
        "(4+0j)\n",
        "\n",
        "b = int (5.) # this call operates a type conversion (casting)\n",
        "\n",
        "print(type (b))\n"
      ]
    },
    {
      "cell_type": "code",
      "execution_count": null,
      "id": "c05ab200",
      "metadata": {
        "id": "c05ab200"
      },
      "outputs": [],
      "source": []
    },
    {
      "cell_type": "markdown",
      "source": [
        "##LIST"
      ],
      "metadata": {
        "id": "cXbKUDarsLZ7"
      },
      "id": "cXbKUDarsLZ7"
    },
    {
      "cell_type": "code",
      "execution_count": 9,
      "id": "dc701651",
      "metadata": {
        "id": "dc701651",
        "colab": {
          "base_uri": "https://localhost:8080/"
        },
        "outputId": "2960940a-79ac-4509-b683-ff34108322f9"
      },
      "outputs": [
        {
          "output_type": "stream",
          "name": "stdout",
          "text": [
            "<class 'list'>\n",
            "[1, 2.0, (3+0j)]\n",
            "[1, 2.0, (3+0j), 4, 5, 6, 7]\n"
          ]
        }
      ],
      "source": [
        "test_list=[1,2,3]\n",
        "print(type(test_list))\n",
        "\n",
        "test_list=[1,float(2),complex(3)] #sto facendo un casting su alcuni elementi della lista (che possono essere modificati)\n",
        "print(test_list)\n",
        "\n",
        "test_list += [4,5,6]           #modo di aggiunger elementi con l'operatore +=\n",
        "test_list.append(7)    #modo di aggiungere elementi con la funzione append, MA append puo aggiungere un solo elemento,\n",
        "                     #oppure con le [] aggoiungo una lista all'interno della lista\n",
        "\n",
        "print(test_list)"
      ]
    },
    {
      "cell_type": "code",
      "execution_count": 9,
      "id": "1c6f1493",
      "metadata": {
        "id": "1c6f1493"
      },
      "outputs": [],
      "source": []
    },
    {
      "cell_type": "code",
      "execution_count": 10,
      "id": "ecccf849",
      "metadata": {
        "id": "ecccf849",
        "colab": {
          "base_uri": "https://localhost:8080/",
          "height": 177
        },
        "outputId": "c43e49f7-e718-477f-a1f5-bc9c5523cb86"
      },
      "outputs": [
        {
          "output_type": "error",
          "ename": "NameError",
          "evalue": "ignored",
          "traceback": [
            "\u001b[0;31m---------------------------------------------------------------------------\u001b[0m",
            "\u001b[0;31mNameError\u001b[0m                                 Traceback (most recent call last)",
            "\u001b[0;32m<ipython-input-10-6e912e557591>\u001b[0m in \u001b[0;36m<cell line: 1>\u001b[0;34m()\u001b[0m\n\u001b[0;32m----> 1\u001b[0;31m \u001b[0mx\u001b[0m \u001b[0;32min\u001b[0m \u001b[0mtest_list\u001b[0m\u001b[0;34m\u001b[0m\u001b[0;34m\u001b[0m\u001b[0m\n\u001b[0m",
            "\u001b[0;31mNameError\u001b[0m: name 'x' is not defined"
          ]
        }
      ],
      "source": [
        "x in test_list   #vero se l'elemento x fa parte della lista falso altrimenti.\n",
        "test_list1 +test_list2 #somma\n",
        "\n",
        "test_list[i] #le liste sono INDICIZZATE\n",
        "\n",
        "test_list[i:j] #mi restituisce la sottolista tra gli elementi i e j. Ricorda che j è escluso dalla conta\n",
        "test_list[i:j:k] #in questo caso metto anche il passo della sottolista\n",
        " min(test_list)\n",
        " max(test_list)\n",
        " test_list.index(x)# mi restituisce l'indice del valore x all'interno della lista\n",
        " test_list.index(x,i,j) #mi l'indice di x presente tra i e j\n",
        " test_list.count(x)  #quante volte è presente il valore x nella lista corrente\n",
        "\n",
        " list(range(4))#crea una lista da 0 a 4\n",
        " list(range(1,8,2))#una lista tra 1 e 8 con il passo 2\n",
        "\n",
        " #le liste funzionano anche con le stringhe"
      ]
    },
    {
      "cell_type": "markdown",
      "source": [
        "##TUPLES"
      ],
      "metadata": {
        "id": "CE0s435uwgqd"
      },
      "id": "CE0s435uwgqd"
    },
    {
      "cell_type": "code",
      "source": [
        "#Un tuple è un elenco di oggetti sempre indicizzati ma NON posso modificare i valori\n",
        "\n",
        "test_tuple=(1,2,3,\"ciao !\")\n",
        "\n",
        "#POSSO accedere agli elementi della tupla in due modi:\n",
        "\n",
        "test_tuple[4]\n",
        "#via unpucking:\n",
        "a1,a2,a3,a4 = test_tuple\n",
        "print(a1,a2,a3,a4)\n"
      ],
      "metadata": {
        "id": "hpAubF_DwiAO"
      },
      "id": "hpAubF_DwiAO",
      "execution_count": null,
      "outputs": []
    },
    {
      "cell_type": "markdown",
      "source": [
        "## DICTIONARY"
      ],
      "metadata": {
        "id": "v4AECEdpxbxY"
      },
      "id": "v4AECEdpxbxY"
    },
    {
      "cell_type": "code",
      "source": [
        "test_dict = {\n",
        "    'a': [1,2,3],\n",
        "    'b': 'my string',\n",
        "    1: 0}\n",
        "\n",
        "print (test_dict)\n",
        "\n",
        "\n",
        "print (test_dict['a']) #mi stampa il valore della chiave a\n",
        "\n",
        "\n",
        "test_dict['test'] = 1+3J  #AGGIUNGERE parola al dizionario!\n",
        "print (test_dict)\n",
        "\n",
        "#Ciclo FOR SUL DICTIONARY:\n",
        "for key in test_dict: print (key, test_dict[key])\n",
        "\n",
        "#ALTERNATIVE/VARIAZIONI:\n",
        "for key in test_dict.keys (): print (key)\n",
        "\n",
        "for value in test_dict.values (): print (value)\n",
        "\n",
        "for key, value in test_dict.items (): print (key, value)\n"
      ],
      "metadata": {
        "colab": {
          "base_uri": "https://localhost:8080/"
        },
        "id": "BybQRbI1xb7H",
        "outputId": "815c53ee-1e2c-4cba-e4de-d7cf6be9c5e5"
      },
      "id": "BybQRbI1xb7H",
      "execution_count": 11,
      "outputs": [
        {
          "output_type": "stream",
          "name": "stdout",
          "text": [
            "{'a': [1, 2, 3], 'b': 'my string', 1: 0}\n",
            "[1, 2, 3]\n",
            "{'a': [1, 2, 3], 'b': 'my string', 1: 0, 'test': (1+3j)}\n"
          ]
        },
        {
          "output_type": "execute_result",
          "data": {
            "text/plain": [
              "{'a': [1, 2, 3], 'b': 'my string', 1: 0, 'test': (1+3j)}"
            ]
          },
          "metadata": {},
          "execution_count": 11
        }
      ]
    },
    {
      "cell_type": "markdown",
      "source": [
        "##FUNZIONI USER-DEFINITE"
      ],
      "metadata": {
        "id": "PU1SeXP52dx3"
      },
      "id": "PU1SeXP52dx3"
    },
    {
      "cell_type": "code",
      "source": [
        "def squared() :\n",
        "  return x*x                #ricordarsi dell'indentazione!\n",
        "\n",
        "\n",
        "#posso restituire anche 3 valor (restituisce un tuple di tre valori):\n",
        "def first_three_powers (x) :\n",
        "\n",
        "  return x, x*x, x*x*x\n",
        "\n",
        "first_three_powers (2)\n",
        "\n",
        "#funzioni con un numero arbitrario di argomenti:\n",
        "\n",
        "\n",
        "def my_function(*args, **kwargs):    #in questo caso non vengono specificati gli argomenti, (in generale li chiamo args e kwargs)\n",
        "   print(args)   #args permette di passare elementi di una lista o di una tupla alla funzione(grazie a *)\n",
        "   print(kwargs)     #kwargs permette di passare dei DIZIONARI COME ARGOMENTO (grazie all'operatore **)\n",
        "\n",
        "my_function( (1,2,3), a = 1, b = 'wow', c= (4,5,6))\n",
        "((1, 2, 3),)\n",
        "{'a': 1, 'b': 'wow', 'c': (4, 5, 6)}\n"
      ],
      "metadata": {
        "colab": {
          "base_uri": "https://localhost:8080/"
        },
        "id": "kam6_lSM2d8-",
        "outputId": "12355d29-ab76-4dd2-962b-226882669b5a"
      },
      "id": "kam6_lSM2d8-",
      "execution_count": 12,
      "outputs": [
        {
          "output_type": "execute_result",
          "data": {
            "text/plain": [
              "(2, 4, 8)"
            ]
          },
          "metadata": {},
          "execution_count": 12
        }
      ]
    },
    {
      "cell_type": "code",
      "source": [],
      "metadata": {
        "id": "NIvZoneQ3ELi"
      },
      "id": "NIvZoneQ3ELi",
      "execution_count": 13,
      "outputs": []
    },
    {
      "cell_type": "markdown",
      "source": [
        "##Functions in python scripts\n",
        "chiamata alla funzione main"
      ],
      "metadata": {
        "id": "BjO53oHo415g"
      },
      "id": "BjO53oHo415g"
    },
    {
      "cell_type": "code",
      "source": [
        "#to let the Python interpreter know what to do when a script is called,\n",
        "# the main sequence of instructions follows the statement if __name__ == \"__main__\":\n",
        "\n",
        "def squared (x) :\n",
        "  return x*x\n",
        "\n",
        "if __name__ == \"__main__\":             #DEFINIRE LA FUNZIONE MAIN\n",
        "  number = float (input ('insert a number:'))\n",
        "  print ('the square of ' + str (number) + ' is: ' + str (squared (number)))\n",
        "\n",
        "  #richiamare la funzione main\n",
        "\n",
        "#-------------------------------\n",
        "\n",
        "if __name__ == \"__main__\":\n",
        "  main ()              #queste due righe vanno messe alla fine, dopo aver messo tutto all'interno del main iniziale\n",
        "\n",
        "\n",
        "\n",
        "\n",
        "\n",
        "\n",
        "  #DOCUMENTARE (COMMENTARE) UNA FUNZIONE:\n",
        "  def squared (x):\n",
        "\n",
        "  '''calculates the square of a number'''   #Con questi apici aggiungo il testo di commento\n",
        "\n",
        "  return x*x\n",
        "\n",
        "\n",
        "help (squared)  #sul jupyter notebook usare ?\n"
      ],
      "metadata": {
        "id": "oT3cmqz_4Av6"
      },
      "id": "oT3cmqz_4Av6",
      "execution_count": null,
      "outputs": []
    },
    {
      "cell_type": "markdown",
      "source": [
        "## variabili all'interno delle funzioni :\n",
        "globali e locali"
      ],
      "metadata": {
        "id": "szCGcI1838Ck"
      },
      "id": "szCGcI1838Ck"
    },
    {
      "cell_type": "code",
      "source": [
        "\n",
        "#Variables defined in the scope of a function, called local, are not visible outside it unless they are declared as global.\n",
        "def test(x):\n",
        "\n",
        "  y = 4   #all'interno della funzione le variabili sono sempre LOCALI, per renderle accessibili\n",
        "  #devo definirle come variabili global.\n",
        "\n",
        "  return x\n",
        "\n",
        "\n",
        "test(1)\n",
        "#1\n",
        "\n",
        "print(y)\n",
        "#Traceback (most recent call last):\n",
        " # File \"<stdin>\", line 1, in <module>\n",
        "#NameError: name 'y' is not defined\n",
        "\n",
        "def test(x):\n",
        "\n",
        "  global y  #cosi la variabile Y con GLOBAL è accessibile a tutte le funzioni\n",
        "\n",
        "  y = 4\n",
        "\n",
        "  return x\n",
        "\n",
        "\n",
        "test(1)\n",
        "#1\n",
        "\n",
        "y\n",
        "\n",
        "#4"
      ],
      "metadata": {
        "id": "zPkP8E3N58Sz"
      },
      "id": "zPkP8E3N58Sz",
      "execution_count": null,
      "outputs": []
    },
    {
      "cell_type": "markdown",
      "source": [
        "#ciclo e iterazioni tipo if, if-else, while vengono tralasc"
      ],
      "metadata": {
        "id": "BtwrRP4t7GIU"
      },
      "id": "BtwrRP4t7GIU"
    },
    {
      "cell_type": "code",
      "source": [
        "for i in range (3):\n",
        "  print ('iteration ' + str (i))\n",
        "#--------------------------------------\n",
        "  for i in range (3):\n",
        "  print ('before the internal loop in iteration ' + str (i))\n",
        "  for j in range (3):\n",
        "    number = 3 * i + j\n",
        "    print (number)\n",
        "  print ('end of internal loop') #questo print appartiene al primo ciclo for\n",
        "\n",
        "#ricorda che all'interno dei cicli (soprattuto while) si possono usare i comandi CONTINUE e BREAK"
      ],
      "metadata": {
        "id": "GMXJ4b207Lyy"
      },
      "id": "GMXJ4b207Lyy",
      "execution_count": null,
      "outputs": []
    },
    {
      "cell_type": "markdown",
      "source": [
        "## Moduli (sempre per le funzioni):\n",
        "posso costruire dei moduli da importare con dentro varie funzioni ecc"
      ],
      "metadata": {
        "id": "V-OIMqyQ7NT9"
      },
      "id": "V-OIMqyQ7NT9"
    },
    {
      "cell_type": "code",
      "source": [
        "#o anche per importare le lib standard di pyton: ad esempio la LIBRERIA sys ...\n",
        "import sys\n",
        "\n",
        "def squared (x) :\n",
        "  return x*x\n",
        "\n",
        "if __name__ == \"__main__\":\n",
        "\n",
        "  number = float (sys.argv[1])   #nota sui parametri passati con sys: sys.argv[n]\n",
        "  print ('the square power of ' + str (number) + ' is: ' + str (squared (number)))\n",
        "\n",
        "\n",
        "#IMPORTARE LISTE CREATE DA NOI:\n",
        "#ad esempio ho creato il file operation (che è una liberia)\n",
        "\n",
        "\n",
        "\n",
        "    #The instruction import allows to import the sys library ready for use\n",
        "    #The sys.argv list contains all the words written after python3\n",
        "\n",
        "    #A library is a text file containing a collection of functions, usually placed in the same directory of the scripts which use it\n",
        "import sys\n",
        "from operations import squared    #operation è un file di testo definito da noi con dentro uno script\n",
        "\n",
        "if __name__ == \"__main__\":\n",
        "\n",
        "  number = float (sys.argv[1])\n",
        "  print ('the square power of ' + str (number) + ' is: ' + str (squared (number)))\n"
      ],
      "metadata": {
        "id": "jvOhYXo78X9B"
      },
      "id": "jvOhYXo78X9B",
      "execution_count": null,
      "outputs": []
    }
  ],
  "metadata": {
    "kernelspec": {
      "display_name": "Python 3 (ipykernel)",
      "language": "python",
      "name": "python3"
    },
    "language_info": {
      "codemirror_mode": {
        "name": "ipython",
        "version": 3
      },
      "file_extension": ".py",
      "mimetype": "text/x-python",
      "name": "python",
      "nbconvert_exporter": "python",
      "pygments_lexer": "ipython3",
      "version": "3.11.4"
    },
    "colab": {
      "provenance": []
    }
  },
  "nbformat": 4,
  "nbformat_minor": 5
}